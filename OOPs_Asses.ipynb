{
 "cells": [
  {
   "cell_type": "markdown",
   "id": "06dbd676-cc0b-4d62-a6f4-39b7eb5d86dc",
   "metadata": {},
   "source": [
    "1. What is a constructor in Python? Explain its purpose and usage.\n",
    "2. Differentiate between a parameterless constructor and a parameterized constructor in Python.\n",
    "3. How do you define a constructor in a Python class? Provide an example.\n",
    "4. Explain the `__init__` method in Python and its role in constructors.\n",
    "5. In a class named `Person`, create a constructor that initializes the `name` and `age` attributes. Provide an\n",
    "example of creating an object of this class.\n",
    "6. How can you call a constructor explicitly in Python? Give an example.\n",
    "7. What is the significance of the `self` parameter in Python constructors? Explain with an example.\n",
    "8. Discuss the concept of default constructors in Python. When are they used?\n",
    "9. Create a Python class called `Rectangle` with a constructor that initializes the `width` and `height`\n",
    "attributes. Provide a method to calculate the area of the rectangle.\n",
    "10. How can you have multiple constructors in a Python class? Explain with an example.\n",
    "11. What is method overloading, and how is it related to constructors in Python?\n",
    "12. Explain the use of the `super()` function in Python constructors. Provide an example.\n",
    "13. Create a class called `Book` with a constructor that initializes the `title`, `author`, and `published_year`\n",
    "attributes. Provide a method to display book details.\n",
    "14. Discuss the differences between constructors and regular methods in Python classes.\n",
    "15. Explain the role of the `self` parameter in instance variable initialization within a constructor.\n",
    "16. How do you prevent a class from having multiple instances by using constructors in Python? Provide an\n",
    "example.\n",
    "17. Create a Python class called `Student` with a constructor that takes a list of subjects as a parameter and\n",
    "initializes the `subjects` attribute.\n",
    "18. What is the purpose of the `__del__` method in Python classes, and how does it relate to constructors?\n",
    "19. Explain the use of constructor chaining in Python. Provide a practical example.\n",
    "20. Create a Python class called `Car` with a default constructor that initializes the `make` and `model`\n",
    "attributes. Provide a method to display car information."
   ]
  },
  {
   "cell_type": "code",
   "execution_count": null,
   "id": "6f33b999-6def-4fba-af9a-5e55279c8670",
   "metadata": {},
   "outputs": [],
   "source": [
    "#ANSWERS"
   ]
  },
  {
   "cell_type": "markdown",
   "id": "b8a5e93c-de5b-4fcc-88ff-5d2cc69980df",
   "metadata": {},
   "source": [
    "Constructor in Python:\n",
    "A constructor in Python is a special method used for initializing newly created objects. Its purpose is to set up initial values for object attributes or perform any necessary setup tasks when an object is created. In Python, constructors are defined using the __init__ method.\n",
    "\n",
    "Parameterless vs Parameterized Constructors:\n",
    "\n",
    "Parameterless constructor: Also known as a default constructor, it doesn't take any parameters. It initializes the object with default values or performs default setup tasks.\n",
    "Parameterized constructor: Takes one or more parameters to initialize the object with specific values passed during object creation.\n",
    "Defining a constructor in Python:\n",
    "To define a constructor in a Python class, you create a method named __init__. Here's an example:"
   ]
  },
  {
   "cell_type": "code",
   "execution_count": 1,
   "id": "e4889bac-a073-4389-a5f4-8c11c36c44cc",
   "metadata": {},
   "outputs": [],
   "source": [
    "class MyClass:\n",
    "    def __init__(self, param1, param2):\n",
    "        # constructor code\n",
    "        pass\n"
   ]
  },
  {
   "cell_type": "markdown",
   "id": "9d36d855-90fd-47e1-bff4-90ff1aef7f00",
   "metadata": {},
   "source": [
    "__init__ method in Python:\n",
    "The __init__ method in Python is a constructor method used for initializing objects. It gets called automatically when a new object of the class is instantiated."
   ]
  },
  {
   "cell_type": "code",
   "execution_count": 2,
   "id": "7c242c11-b057-4b27-a984-e771bf504e81",
   "metadata": {},
   "outputs": [],
   "source": [
    "class Person:\n",
    "    def __init__(self, name, age):\n",
    "        self.name = name\n",
    "        self.age = age\n",
    "\n",
    "# Creating an object of the Person class\n",
    "person1 = Person(\"John\", 30)\n"
   ]
  },
  {
   "cell_type": "markdown",
   "id": "e05d824b-0b00-489d-bafa-737d34c26472",
   "metadata": {},
   "source": [
    "Calling a constructor explicitly in Python:\n",
    "Constructors are called implicitly when an object is created. However, if you want to call the constructor explicitly, you can do so using the class name like a regular method. For example:"
   ]
  },
  {
   "cell_type": "code",
   "execution_count": null,
   "id": "bcb86687-b875-4b25-b3cf-b99361e453e1",
   "metadata": {},
   "outputs": [
    {
     "name": "stdout",
     "output_type": "stream",
     "text": [
      "Constructor called\n",
      "Constructor called\n"
     ]
    }
   ],
   "source": [
    "class MyClass:\n",
    "    def __init__(self):\n",
    "        print(\"Constructor called\")\n",
    "\n",
    "# Explicitly calling constructor\n",
    "MyClass.__init__(MyClass())\n"
   ]
  },
  {
   "cell_type": "markdown",
   "id": "11fef093-2c57-47ab-850e-5825664d78f7",
   "metadata": {},
   "source": [
    "Significance of the self parameter:\n",
    "In Python, self is a reference to the instance of the class. It is used to access variables or methods of the instance within the class. In constructors, self is used to set instance variables. Here's an example:class MyClass:\n",
    "    def __init__(self, value):\n",
    "        self.value = value\n",
    "\n",
    "obj = MyClass(10)\n",
    "print(obj.value)  # Output: 10\n"
   ]
  },
  {
   "cell_type": "markdown",
   "id": "78e83923-a85e-4263-9652-e8d5c2d8d0e1",
   "metadata": {},
   "source": [
    "Default Constructors in Python:\n",
    "Python doesn't have a concept of default constructors like some other languages. Instead, the __init__ method serves as the constructor, and it can be defined with default parameters if needed."
   ]
  },
  {
   "cell_type": "code",
   "execution_count": 4,
   "id": "93108c0d-4a96-4ab4-865b-50590e4b65e2",
   "metadata": {},
   "outputs": [
    {
     "name": "stdout",
     "output_type": "stream",
     "text": [
      "Area: 50\n"
     ]
    }
   ],
   "source": [
    "class Rectangle:\n",
    "    def __init__(self, width, height):\n",
    "        self.width = width\n",
    "        self.height = height\n",
    "\n",
    "    def calculate_area(self):\n",
    "        return self.width * self.height\n",
    "\n",
    "# Creating an object of the Rectangle class\n",
    "rect = Rectangle(5, 10)\n",
    "print(\"Area:\", rect.calculate_area())  # Output: 50\n"
   ]
  },
  {
   "cell_type": "markdown",
   "id": "599b1422-ad1f-4564-b1a6-87dc97f387d3",
   "metadata": {},
   "source": [
    "Multiple constructors in Python:\n",
    "Python does not support method overloading in the traditional sense. However, you can achieve similar behavior by using default parameter values in the __init__ method or by using conditional logic within the constructor. Here's an example:"
   ]
  },
  {
   "cell_type": "code",
   "execution_count": 5,
   "id": "e14972f3-8580-48c7-8d99-1a48653b1ddc",
   "metadata": {},
   "outputs": [],
   "source": [
    "class MyClass:\n",
    "    def __init__(self, param=None):\n",
    "        if param is None:\n",
    "            # default constructor behavior\n",
    "            pass\n",
    "        else:\n",
    "            # parameterized constructor behavior\n",
    "            pass\n"
   ]
  },
  {
   "cell_type": "markdown",
   "id": "dcd7d1ad-a164-4d28-824d-f0e1a5f7d2fa",
   "metadata": {},
   "source": [
    "Method Overloading and Constructors:\n",
    "Method overloading refers to the ability to define multiple methods with the same name but with different parameters within a class. In Python, method overloading is achieved through default parameter values or conditional logic within methods. Constructors can be overloaded in a similar manner to provide different initialization behaviors based on the parameters passed."
   ]
  },
  {
   "cell_type": "markdown",
   "id": "8daede14-6141-4b60-91d0-fb18a19382cc",
   "metadata": {},
   "source": [
    "12.super() function in Python constructors:\n",
    "The super() function is used to call the superclass constructor or methods from the subclass. In constructors, super().__init__() is commonly used to invoke the constructor of the superclass. Here's an example:"
   ]
  },
  {
   "cell_type": "code",
   "execution_count": 6,
   "id": "b9ea8b76-1df0-41e8-82b2-84b3fc8648b6",
   "metadata": {},
   "outputs": [
    {
     "name": "stdout",
     "output_type": "stream",
     "text": [
      "Title: Python Programming, Author: John Smith, Year: 2020\n"
     ]
    }
   ],
   "source": [
    "class Book:\n",
    "    def __init__(self, title, author, published_year):\n",
    "        self.title = title\n",
    "        self.author = author\n",
    "        self.published_year = published_year\n",
    "\n",
    "    def display_details(self):\n",
    "        print(f\"Title: {self.title}, Author: {self.author}, Year: {self.published_year}\")\n",
    "\n",
    "# Creating an object of the Book class\n",
    "book1 = Book(\"Python Programming\", \"John Smith\", 2020)\n",
    "book1.display_details()  # Output: Title: Python Programming, Author: John Smith, Year: 2020\n"
   ]
  },
  {
   "cell_type": "raw",
   "id": "f9574da5-a24a-404e-a0fe-52c404cc42f3",
   "metadata": {},
   "source": [
    "14.Differences between constructors and regular methods:\n",
    "\n",
    "Constructors are special methods used for initializing objects and are called automatically when an object is created.\n",
    "Regular methods are used to perform operations or provide functionality within a class and need to be called explicitly.\n",
    "Role of self parameter in instance variable initialization:\n",
    "\n",
    "15.In a constructor, self refers to the instance of the class being initialized. It is used to bind the instance variables to the instance. Without using self, the variables would be local to the constructor and wouldn't be accessible outside it.\n",
    "\n",
    "16.Preventing multiple instances using constructors:\n",
    "You can prevent a class from having multiple instances by implementing a Singleton pattern, where the constructor checks if an instance already exists and returns it if it does. Here's an example:\n",
    "\n",
    "\n",
    "\n",
    "class Singleton:\n",
    "    _instance = None\n",
    "\n",
    "    def __new__(cls):\n",
    "        if not cls._instance:\n",
    "            cls._instance = super().__new__(cls)\n",
    "        return cls._instance\n"
   ]
  },
  {
   "cell_type": "raw",
   "id": "cf0b61c1-d360-43c5-943a-72f92c3794aa",
   "metadata": {},
   "source": [
    "17. class Student:\n",
    "    def __init__(self, subjects):\n",
    "        self.subjects = subjects\n",
    "\n",
    "# Creating an object of the Student class\n",
    "student1 = Student([\"Math\", \"Science\", \"History\"])\n"
   ]
  },
  {
   "cell_type": "raw",
   "id": "6027bef8-85bf-4517-9581-d6f86e722d8a",
   "metadata": {},
   "source": [
    "18. Purpose of the __del__ method:\n",
    "The __del__ method in Python is a destructor method that gets called when an object is about to be destroyed. It can be used to perform cleanup tasks such as releasing resources or closing connections. It's related to constructors in that it's the opposite; constructors initialize objects, while __del__ cleans them up.\n",
    "\n",
    "19. Constructor chaining in Python:\n",
    "Constructor chaining refers to the calling of one constructor from another constructor within the same class. This can be done using super().__init__() to invoke the constructor of the superclass. Here's an example:\n",
    "\n",
    "\n",
    "class BaseClass:\n",
    "    def __init__(self, x):\n",
    "        self.x = x\n",
    "\n",
    "class SubClass(BaseClass):\n",
    "    def __init__(self, x, y):\n",
    "       \n"
   ]
  },
  {
   "cell_type": "markdown",
   "id": "f783ab28-8014-408c-a26d-65e7aa989269",
   "metadata": {},
   "source": [
    "1. What is inheritance in Python? Explain its significance in object-oriented programming.\n",
    "2. Differentiate between single inheritance and multiple inheritance in Python. Provide examples for each.\n",
    "3. Create a Python class called `Vehicle` with attributes `color` and `speed`. Then, create a child class called\n",
    "`Car` that inherits from `Vehicle` and adds a `brand` attribute. Provide an example of creating a `Car` object.\n",
    "4. Explain the concept of method overriding in inheritance. Provide a practical example.\n",
    "5. How can you access the methods and attributes of a parent class from a child class in Python? Give an\n",
    "example.\n",
    "6. Discuss the use of the `super()` function in Python inheritance. When and why is it used? Provide an\n",
    "example.\n",
    "7. Create a Python class called `Animal` with a method `speak()`. Then, create child classes `Dog` and `Cat` that inherit from `Animal` and override the `speak()` method. Provide an example of using these classes.\n",
    "8. Explain the role of the `isinstance()` function in Python and how it relates to inheritance.\n",
    "9. What is the purpose of the `issubclass()` function in Python? Provide an example.\n",
    "10. Discuss the concept of constructor inheritance in Python. How are constructors inherited in child classes?\n",
    "11. Create a Python class called `Shape` with a method `area()` that calculates the area of a shape. Then, create child classes `Circle` and `Rectangle` that inherit from `Shape` and implement the `area()` method\n",
    "accordingly. Provide an example.\n",
    "12. Explain the use of abstract base classes (ABCs) in Python and how they relate to inheritance. Provide an\n",
    "example using the `abc` module.\n",
    "13. How can you prevent a child class from modifying certain attributes or methods inherited from a parent\n",
    "class in Python?\n",
    "14. Create a Python class called `Employee` with attributes `name` and `salary`. Then, create a child class\n",
    "`Manager` that inherits from `Employee` and adds an attribute `department`. Provide an example.\n",
    "15. Discuss the concept of method overloading in Python inheritance. How does it differ from method\n",
    "overriding?\n",
    "16. Explain the purpose of the `__init__()` method in Python inheritance and how it is utilized in child classes.\n",
    "17. Create a Python class called `Bird` with a method `fly()`. Then, create child classes `Eagle` and `Sparrow` that inherit from `Bird` and implement the `fly()` method differently. Provide an example of using these\n",
    "classes.\n",
    "18. What is the \"diamond problem\" in multiple inheritance, and how does Python address it?\n",
    "19. Discuss the concept of \"is-a\" and \"has-a\" relationships in inheritance, and provide examples of each.\n",
    "20. Create a Python class hierarchy for a university system. Start with a base class `Person` and create child\n",
    "classes `Student` and `Professor`, each with their own attributes and methods. Provide an example of using\n",
    "these classes in a university context.\n",
    "\n",
    "Full Stack Data Science Pro Data Science Masters"
   ]
  },
  {
   "cell_type": "raw",
   "id": "4c49b909-5c23-43cf-8407-d57c1cde8572",
   "metadata": {},
   "source": [
    "1.Inheritance in Python:\n",
    "Inheritance is a fundamental concept in object-oriented programming where a class (child or derived class) inherits attributes and methods from another class (parent or base class). This allows for code reuse, promotes modularity, and facilitates polymorphism."
   ]
  },
  {
   "cell_type": "raw",
   "id": "ad69f75c-4dba-4bc1-9731-d6bd41e0357d",
   "metadata": {},
   "source": [
    "2. Single Inheritance vs Multiple Inheritance:\n",
    "\n",
    "Single Inheritance: A class inherits from only one parent class.\n",
    "python\n",
    "Copy code\n",
    "class Parent:\n",
    "    pass\n",
    "\n",
    "class Child(Parent):\n",
    "    pass\n",
    "    \n",
    "    \n",
    "    \n",
    "    Multiple Inheritance: A class inherits from more than one parent class.\n",
    "python\n",
    "Copy code\n",
    "class Parent1:\n",
    "    pass\n",
    "\n",
    "class Parent2:\n",
    "    pass\n",
    "\n",
    "class Child(Parent1, Parent2):\n",
    "    pass"
   ]
  },
  {
   "cell_type": "code",
   "execution_count": 9,
   "id": "ac372719-82be-44c0-bdb6-dd869b072654",
   "metadata": {},
   "outputs": [],
   "source": [
    "#3.\n",
    "class Vehicle:\n",
    "    def __init__(self, color, speed):\n",
    "        self.color = color\n",
    "        self.speed = speed\n",
    "\n",
    "class Car(Vehicle):\n",
    "    def __init__(self, color, speed, brand):\n",
    "        super().__init__(color, speed)\n",
    "        self.brand = brand\n",
    "\n",
    "# Creating a Car object\n",
    "car = Car(\"Red\", 100, \"Toyota\")\n"
   ]
  },
  {
   "cell_type": "raw",
   "id": "850ab6d4-003d-4b07-ad7a-fc3a16105568",
   "metadata": {},
   "source": [
    "4.Method Overriding in Inheritance:\n",
    "Method overriding occurs when a subclass provides a specific implementation of a method that is already defined in its superclass. This allows the subclass to customize behavior while retaining the method signature. Example:\n",
    "\n",
    "\n"
   ]
  },
  {
   "cell_type": "code",
   "execution_count": 10,
   "id": "c94baa7d-dbd7-47a0-ac37-7c991532958c",
   "metadata": {},
   "outputs": [
    {
     "name": "stdout",
     "output_type": "stream",
     "text": [
      "Hello from Child\n"
     ]
    }
   ],
   "source": [
    "class Parent:\n",
    "    def greet(self):\n",
    "        print(\"Hello from Parent\")\n",
    "\n",
    "class Child(Parent):\n",
    "    def greet(self):\n",
    "        print(\"Hello from Child\")\n",
    "\n",
    "child = Child()\n",
    "child.greet()  # Output: Hello from Child\n"
   ]
  },
  {
   "cell_type": "code",
   "execution_count": 11,
   "id": "34bb1355-e92a-42d4-a771-54dfadc0a783",
   "metadata": {},
   "outputs": [
    {
     "name": "stdout",
     "output_type": "stream",
     "text": [
      "Parent Attribute\n",
      "Parent Method\n",
      "Child Method\n"
     ]
    }
   ],
   "source": [
    "#5.\n",
    "class Parent:\n",
    "    def __init__(self):\n",
    "        self.parent_attr = \"Parent Attribute\"\n",
    "\n",
    "    def parent_method(self):\n",
    "        print(\"Parent Method\")\n",
    "\n",
    "class Child(Parent):\n",
    "    def __init__(self):\n",
    "        super().__init__()\n",
    "        self.child_attr = \"Child Attribute\"\n",
    "\n",
    "    def child_method(self):\n",
    "        super().parent_method()\n",
    "        print(\"Child Method\")\n",
    "\n",
    "child = Child()\n",
    "print(child.parent_attr)  # Output: Parent Attribute\n",
    "child.child_method()\n"
   ]
  },
  {
   "cell_type": "raw",
   "id": "9b4660f7-d4d6-433c-9375-cc7ef457ac12",
   "metadata": {},
   "source": [
    "6.Use of super() in Python inheritance:\n",
    "super() is used to call methods or access attributes from the parent class within the child class. It's particularly useful when you want to invoke the parent class's constructor or methods. Example:"
   ]
  },
  {
   "cell_type": "code",
   "execution_count": 12,
   "id": "071d9608-80d3-493f-86bb-5e25c77efd56",
   "metadata": {},
   "outputs": [
    {
     "name": "stdout",
     "output_type": "stream",
     "text": [
      "Parent Constructor\n",
      "Child Constructor\n"
     ]
    }
   ],
   "source": [
    "class Parent:\n",
    "    def __init__(self):\n",
    "        print(\"Parent Constructor\")\n",
    "\n",
    "class Child(Parent):\n",
    "    def __init__(self):\n",
    "        super().__init__()  # Calling parent constructor\n",
    "        print(\"Child Constructor\")\n",
    "\n",
    "child = Child()  # Output: Parent Constructor, Child Constructor\n"
   ]
  },
  {
   "cell_type": "code",
   "execution_count": 13,
   "id": "959e5176-12fa-4587-971c-3c3f51dc9142",
   "metadata": {},
   "outputs": [
    {
     "name": "stdout",
     "output_type": "stream",
     "text": [
      "Dog barks\n",
      "Cat meows\n"
     ]
    }
   ],
   "source": [
    "class Animal:\n",
    "    def speak(self):\n",
    "        pass\n",
    "\n",
    "class Dog(Animal):\n",
    "    def speak(self):\n",
    "        print(\"Dog barks\")\n",
    "\n",
    "class Cat(Animal):\n",
    "    def speak(self):\n",
    "        print(\"Cat meows\")\n",
    "\n",
    "dog = Dog()\n",
    "dog.speak()  # Output: Dog barks\n",
    "\n",
    "cat = Cat()\n",
    "cat.speak()  # Output: Cat meows\n"
   ]
  },
  {
   "cell_type": "raw",
   "id": "41be8058-9745-4acb-9d3d-1ed2e1cfc4b1",
   "metadata": {},
   "source": [
    "8.isinstance() function and inheritance:\n",
    "isinstance() function checks if an object belongs to a specific class or its subclass. It is useful for verifying object types, especially in cases of inheritance.\n",
    "\n",
    "9.Purpose of issubclass() function:\n",
    "issubclass() function checks if a class is a subclass of another class. It helps in determining class relationships, particularly in inheritance hierarchies. Example:"
   ]
  },
  {
   "cell_type": "code",
   "execution_count": 14,
   "id": "a737bf14-4f6d-4a5e-bf18-6a56f084f106",
   "metadata": {},
   "outputs": [
    {
     "name": "stdout",
     "output_type": "stream",
     "text": [
      "True\n"
     ]
    }
   ],
   "source": [
    "class Parent:\n",
    "    pass\n",
    "\n",
    "class Child(Parent):\n",
    "    pass\n",
    "\n",
    "print(issubclass(Child, Parent))  # Output: True\n"
   ]
  },
  {
   "cell_type": "raw",
   "id": "2f9f9731-386a-4b8a-88f6-17cf201327ab",
   "metadata": {},
   "source": [
    "10.Constructor Inheritance in Python:\n",
    "Constructors are inherited by default in Python. When a child class is instantiated, it automatically calls the constructor of its superclass using super().__init__(). If the child class has its own constructor, it can call the parent class's constructor explicitly using super().__init__(), passing necessary parameters."
   ]
  },
  {
   "cell_type": "code",
   "execution_count": 15,
   "id": "a238bfd8-7d9a-4962-97bf-7fe6f2fd5bc1",
   "metadata": {},
   "outputs": [
    {
     "name": "stdout",
     "output_type": "stream",
     "text": [
      "Circle Area: 78.5\n",
      "Rectangle Area: 24\n"
     ]
    }
   ],
   "source": [
    "class Shape:\n",
    "    def area(self):\n",
    "        pass\n",
    "\n",
    "class Circle(Shape):\n",
    "    def __init__(self, radius):\n",
    "        self.radius = radius\n",
    "\n",
    "    def area(self):\n",
    "        return 3.14 * self.radius ** 2\n",
    "\n",
    "class Rectangle(Shape):\n",
    "    def __init__(self, width, height):\n",
    "        self.width = width\n",
    "        self.height = height\n",
    "\n",
    "    def area(self):\n",
    "        return self.width * self.height\n",
    "\n",
    "circle = Circle(5)\n",
    "print(\"Circle Area:\", circle.area())  # Output: Circle Area: 78.5\n",
    "\n",
    "rectangle = Rectangle(4, 6)\n",
    "print(\"Rectangle Area:\", rectangle.area())  # Output: Rectangle Area: 24\n"
   ]
  },
  {
   "cell_type": "raw",
   "id": "18484739-248c-4d67-b97e-b13f232b6370",
   "metadata": {},
   "source": [
    "12.Abstract Base Classes (ABCs) and inheritance:\n",
    "Abstract base classes are used to define abstract methods or properties that must be implemented by subclasses. They help in enforcing a particular interface or contract. Example using the abc module:"
   ]
  },
  {
   "cell_type": "code",
   "execution_count": 16,
   "id": "4e5e7e7f-15ce-4d44-98ca-a0448c3f8a17",
   "metadata": {},
   "outputs": [],
   "source": [
    "from abc import ABC, abstractmethod\n",
    "\n",
    "class Shape(ABC):\n",
    "    @abstractmethod\n",
    "    def area(self):\n",
    "        pass\n",
    "\n",
    "class Circle(Shape):\n",
    "    def __init__(self, radius):\n",
    "        self.radius = radius\n",
    "\n",
    "    def area(self):\n",
    "        return 3.14 * self.radius ** 2\n",
    "\n",
    "# Instantiate Circle and call area() method\n"
   ]
  },
  {
   "cell_type": "raw",
   "id": "1a3bace2-cf9e-4cfc-a5b6-4a2bc4ed6913",
   "metadata": {},
   "source": [
    "13.Preventing modification of inherited attributes or methods:\n",
    "In Python, you can prevent a child class from modifying certain attributes or methods inherited from a parent class by using encapsulation and defining those attributes or methods as private. This ensures that they are not directly accessible or modifiable by the child class."
   ]
  },
  {
   "cell_type": "code",
   "execution_count": 17,
   "id": "64f8856b-e5eb-483a-86ba-55693d3faac6",
   "metadata": {},
   "outputs": [],
   "source": [
    "#14\n",
    "class Employee:\n",
    "    def __init__(self, name, salary):\n",
    "        self.name = name\n",
    "        self.salary = salary\n",
    "\n",
    "class Manager(Employee):\n",
    "    def __init__(self, name, salary, department):\n",
    "        super().__init__(name, salary)\n",
    "        self.department = department\n",
    "\n",
    "manager = Manager(\"John\", 50000, \"HR\")\n"
   ]
  },
  {
   "cell_type": "raw",
   "id": "ce613d01-12a3-480e-9384-cff36679021a",
   "metadata": {},
   "source": [
    "15.Method Overloading vs Method Overriding:\n",
    "\n",
    "Method Overloading: Refers to having multiple methods with the same name but different parameters within the same class. Python doesn't support method overloading in the traditional sense.\n",
    "Method Overriding: Occurs when a subclass provides a specific implementation of a method that is already defined in its superclass.\n",
    "\n",
    "\n",
    "16.Role of __init__() method in Python inheritance:\n",
    "The __init__() method initializes object attributes when an instance of a class is created. In inheritance, child classes may override the parent class's __init__() method to provide specific initialization behavior for the subclass."
   ]
  },
  {
   "cell_type": "code",
   "execution_count": 18,
   "id": "2e89bb69-f084-46c5-80b3-686ff1e20f76",
   "metadata": {},
   "outputs": [
    {
     "name": "stdout",
     "output_type": "stream",
     "text": [
      "Eagle flies high\n",
      "Sparrow flies low\n"
     ]
    }
   ],
   "source": [
    "#17.\n",
    "class Bird:\n",
    "    def fly(self):\n",
    "        pass\n",
    "\n",
    "class Eagle(Bird):\n",
    "    def fly(self):\n",
    "        print(\"Eagle flies high\")\n",
    "\n",
    "class Sparrow(Bird):\n",
    "    def fly(self):\n",
    "        print(\"Sparrow flies low\")\n",
    "\n",
    "eagle = Eagle()\n",
    "eagle.fly()  # Output: Eagle flies high\n",
    "\n",
    "sparrow = Sparrow()\n",
    "sparrow.fly()  # Output: Sparrow flies low\n"
   ]
  },
  {
   "cell_type": "raw",
   "id": "65873882-632c-4011-bbc8-222cff21f4de",
   "metadata": {},
   "source": [
    "18.Diamond Problem and Python's Resolution:\n",
    "The diamond problem occurs in multiple inheritance when a subclass inherits from two classes that have a common ancestor. Python resolves this by following a method resolution order (MRO), which determines the order in which methods are called in the inheritance hierarchy. Python's MRO uses the C3 linearization algorithm to maintain consistency and avoid ambiguity.\n",
    "\n",
    "\n",
    "\n",
    "19.\"Is-a\" and \"Has-a\" Relationships in Inheritance:\n",
    "\n",
    "\"Is-a\" Relationship: Indicates that a class is a subclass of another class, representing a type of relationship. Example: Circle is a subclass of Shape.\n",
    "\"Has-a\" Relationship: Indicates that a class contains another class as an attribute, representing a composition relationship. Example: Car has an attribute engine."
   ]
  },
  {
   "cell_type": "code",
   "execution_count": 19,
   "id": "08c6b15d-39ba-4360-afe9-abde64716b4f",
   "metadata": {},
   "outputs": [],
   "source": [
    "#20.\n",
    "class Person:\n",
    "    def __init__(self, name):\n",
    "        self.name = name\n",
    "\n",
    "class Student(Person):\n",
    "    def __init__(self, name, student_id):\n",
    "        super().__init__(name)\n",
    "        self.student_id = student_id\n",
    "\n",
    "class Professor(Person):\n",
    "    def __init__(self, name, department):\n",
    "        super().__init__(name)\n",
    "        self.department = department\n",
    "\n",
    "# Example usage\n",
    "student = Student(\"Alice\", \"12345\")\n",
    "professor = Professor(\"Dr. Smith\", \"Computer Science\")\n"
   ]
  },
  {
   "cell_type": "markdown",
   "id": "4fb0ea2a-dc46-442b-9a97-3366d06e926c",
   "metadata": {},
   "source": [
    "1. Explain the concept of encapsulation in Python. What is its role in object-oriented programming?\n",
    "2. Describe the key principles of encapsulation, including access control and data hiding.\n",
    "3. How can you achieve encapsulation in Python classes? Provide an example.\n",
    "4. Discuss the difference between public, private, and protected access modifiers in Python.\n",
    "5. Create a Python class called `Person` with a private attribute `__name`. Provide methods to get and set the\n",
    "name attribute.\n",
    "6. Explain the purpose of getter and setter methods in encapsulation. Provide examples.\n",
    "7. What is name mangling in Python, and how does it affect encapsulation?\n",
    "8. Create a Python class called `BankAccount` with private attributes for the account balance (`__balance`) and account number (`__account_number`). Provide methods for depositing and withdrawing money.\n",
    "9. Discuss the advantages of encapsulation in terms of code maintainability and security.\n",
    "10. How can you access private attributes in Python? Provide an example demonstrating the use of name\n",
    "mangling.\n",
    "11. Create a Python class hierarchy for a school system, including classes for students, teachers, and courses,\n",
    "and implement encapsulation principles to protect sensitive information.\n",
    "12. Explain the concept of property decorators in Python and how they relate to encapsulation.\n",
    "13. What is data hiding, and why is it important in encapsulation? Provide examples.\n",
    "14. Create a Python class called `Employee` with private attributes for salary (`__salary`) and employee ID (`__employee_id`). Provide a method to calculate yearly bonuses.\n",
    "15. Discuss the use of accessors and mutators in encapsulation. How do they help maintain control over\n",
    "attribute access?\n",
    "16. What are the potential drawbacks or disadvantages of using encapsulation in Python?\n",
    "17. Create a Python class for a library system that encapsulates book information, including titles, authors,\n",
    "and availability status.\n",
    "18. Explain how encapsulation enhances code reusability and modularity in Python programs.\n",
    "19. Describe the concept of information hiding in encapsulation. Why is it essential in software development?\n",
    "20. Create a Python class called `Customer` with private attributes for customer details like name, address,\n",
    "and contact information. Implement encapsulation to ensure data integrity and security."
   ]
  },
  {
   "cell_type": "raw",
   "id": "62f351c8-cc3e-4156-99a1-49e19863b299",
   "metadata": {},
   "source": [
    "1.Encapsulation in Python:\n",
    "Encapsulation is the bundling of data and methods that operate on that data into a single unit, known as a class. It is one of the core principles of object-oriented programming (OOP) and is essential for creating modular and maintainable code. Encapsulation hides the internal state of an object and only exposes a controlled interface for interacting with that object. This helps in achieving data abstraction, data hiding, and information security.\n",
    "\n",
    "2.Principles of Encapsulation:\n",
    "\n",
    "Access Control: Restricting access to certain components of a class (attributes or methods) from outside the class. This ensures that sensitive data is not manipulated directly and maintains the integrity of the object's state.\n",
    "Data Hiding: Concealing the internal implementation details of a class from outside entities. This is achieved by making attributes private or protected, so they cannot be accessed or modified directly from outside the class."
   ]
  },
  {
   "cell_type": "raw",
   "id": "ab637c93-55f9-4895-8cb5-65d76f34cfd2",
   "metadata": {},
   "source": [
    "3.Achieving Encapsulation in Python Classes:\n",
    "\n",
    "By using access modifiers like private, protected, and public.\n",
    "By defining getter and setter methods to control access to attributes.\n",
    "Example:\n",
    "\n",
    "\n",
    "class MyClass:\n",
    "    def __init__(self):\n",
    "        self.__private_attr = 10  # Private attribute\n",
    "\n",
    "    def get_private_attr(self):\n",
    "        return self.__private_attr\n",
    "\n",
    "    def set_private_attr(self, value):\n",
    "        self.__private_attr = value\n"
   ]
  },
  {
   "cell_type": "raw",
   "id": "3fd70fa7-8f02-43dd-83f5-e49ed377dfdc",
   "metadata": {},
   "source": [
    "4.Access Modifiers in Python:\n",
    "\n",
    "Public: Attributes and methods are accessible from outside the class.\n",
    "Private: Attributes and methods are accessible only within the class itself. They are indicated by prefixing with double underscores (__).\n",
    "Protected: Attributes and methods are accessible within the class itself and its subclasses. They are indicated by prefixing with a single underscore (_)."
   ]
  },
  {
   "cell_type": "code",
   "execution_count": 20,
   "id": "a563f38e-d65c-4c1c-974c-32cdfd70fce7",
   "metadata": {},
   "outputs": [],
   "source": [
    "#5.\n",
    "class Person:\n",
    "    def __init__(self, name):\n",
    "        self.__name = name\n",
    "\n",
    "    def get_name(self):\n",
    "        return self.__name\n",
    "\n",
    "    def set_name(self, name):\n",
    "        self.__name = name\n"
   ]
  },
  {
   "cell_type": "raw",
   "id": "cc113770-da70-4b1a-a046-c37ee7507e6b",
   "metadata": {},
   "source": [
    "6.Purpose of Getter and Setter Methods:\n",
    "\n",
    "Getter: Provides read access to private attributes.\n",
    "Setter: Provides write access to private attributes while enforcing validation or additional logic.\n",
    "Example:"
   ]
  },
  {
   "cell_type": "code",
   "execution_count": 21,
   "id": "42d908af-7d79-405b-84c2-5cb304977d79",
   "metadata": {},
   "outputs": [
    {
     "name": "stdout",
     "output_type": "stream",
     "text": [
      "John\n",
      "Alice\n"
     ]
    }
   ],
   "source": [
    "person = Person(\"John\")\n",
    "print(person.get_name())  # Output: John\n",
    "person.set_name(\"Alice\")\n",
    "print(person.get_name())  # Output: Alice\n"
   ]
  },
  {
   "cell_type": "raw",
   "id": "b746a5a0-11e6-4d0c-beb8-d569f41f53e9",
   "metadata": {},
   "source": [
    "7.Name Mangling in Python:\n",
    "Name mangling is a technique used in Python to make private attributes and methods more secure by internally renaming them to include the class name. This makes it difficult for external code to access or modify these attributes directly."
   ]
  },
  {
   "cell_type": "code",
   "execution_count": 22,
   "id": "5065eb5e-3b47-4b0b-a895-16e851fee6b9",
   "metadata": {},
   "outputs": [],
   "source": [
    "#8.\n",
    "class BankAccount:\n",
    "    def __init__(self, balance, account_number):\n",
    "        self.__balance = balance\n",
    "        self.__account_number = account_number\n",
    "\n",
    "    def deposit(self, amount):\n",
    "        self.__balance += amount\n",
    "\n",
    "    def withdraw(self, amount):\n",
    "        if amount <= self.__balance:\n",
    "            self.__balance -= amount\n",
    "        else:\n",
    "            print(\"Insufficient funds\")\n"
   ]
  },
  {
   "cell_type": "raw",
   "id": "9139853a-3990-44ed-8f86-14d870ac43ed",
   "metadata": {},
   "source": [
    "9.Advantages of Encapsulation:\n",
    "\n",
    "Code Maintainability: Encapsulation promotes modular design, making it easier to understand, modify, and maintain code.\n",
    "Data Security: By hiding implementation details and exposing controlled interfaces, encapsulation helps in preventing unauthorized access and manipulation of data.\n",
    "Information Hiding: Encapsulation allows developers to hide sensitive information, reducing complexity and enhancing security.\n",
    "\n",
    "\n",
    "10.Accessing Private Attributes in Python:\n",
    "Private attributes can be accessed using name mangling. However, it's generally not recommended as it violates encapsulation principles.\n",
    "\n",
    "Example:"
   ]
  },
  {
   "cell_type": "code",
   "execution_count": 23,
   "id": "0a099414-5053-4ba9-9be0-5d918a84d988",
   "metadata": {},
   "outputs": [
    {
     "name": "stdout",
     "output_type": "stream",
     "text": [
      "10\n"
     ]
    }
   ],
   "source": [
    "class MyClass:\n",
    "    def __init__(self):\n",
    "        self.__private_attr = 10\n",
    "\n",
    "obj = MyClass()\n",
    "print(obj._MyClass__private_attr)  # Output: 10\n"
   ]
  },
  {
   "cell_type": "code",
   "execution_count": 24,
   "id": "0db16a0c-6b1f-4c74-84c4-e7cf7c6ec4db",
   "metadata": {},
   "outputs": [],
   "source": [
    "class Person:\n",
    "    def __init__(self, name):\n",
    "        self.__name = name\n",
    "\n",
    "class Student(Person):\n",
    "    def __init__(self, name, student_id):\n",
    "        super().__init__(name)\n",
    "        self.__student_id = student_id\n",
    "\n",
    "class Teacher(Person):\n",
    "    def __init__(self, name, department):\n",
    "        super().__init__(name)\n",
    "        self.__department = department\n",
    "\n",
    "class Course:\n",
    "    def __init__(self, name, code):\n",
    "        self.__name = name\n",
    "        self.__code = code\n"
   ]
  },
  {
   "cell_type": "raw",
   "id": "de5dc58c-ae22-4c4a-a015-049d37955826",
   "metadata": {},
   "source": [
    "12.Property Decorators and Encapsulation:\n",
    "Property decorators (@property, @<attr>.setter, @<attr>.deleter) provide a more Pythonic way of implementing getters and setters while maintaining encapsulation.\n",
    "\n",
    "13.Data Hiding in Encapsulation:\n",
    "Data hiding is the practice of hiding implementation details of a class and only exposing a controlled interface. It prevents direct access to sensitive data, ensuring that it can only be accessed or modified through designated methods."
   ]
  },
  {
   "cell_type": "code",
   "execution_count": 26,
   "id": "7548963c-9bb2-46e7-a843-f1c65df3132d",
   "metadata": {},
   "outputs": [],
   "source": [
    "#14.\n",
    "class Employee:\n",
    "    def __init__(self, salary, employee_id):\n",
    "        self.__salary = salary\n",
    "        self.__employee_id = employee_id\n",
    "\n",
    "    def calculate_bonus(self):\n",
    "        return self.__salary * 0.1\n"
   ]
  },
  {
   "cell_type": "raw",
   "id": "38a7a251-1fc7-4017-af4a-bde04e2b5792",
   "metadata": {},
   "source": [
    "15.Accessors and Mutators in Encapsulation:\n",
    "\n",
    "Accessors: Provide read-only access to private attributes.\n",
    "Mutators: Provide write-only access to private attributes.\n",
    "\n",
    "16.Drawbacks of Encapsulation in Python:\n",
    "\n",
    "Increased complexity: Overuse of encapsulation can lead to overly complex code.\n",
    "Performance overhead: Accessing attributes through methods may incur a slight performance overhead compared to direct attribute access.\n",
    "Potential misuse: Developers may misuse encapsulation, leading to unnecessary restrictions or inefficiencies."
   ]
  },
  {
   "cell_type": "code",
   "execution_count": 27,
   "id": "9b294db3-29b2-4e4f-a39a-dddf3035186a",
   "metadata": {},
   "outputs": [],
   "source": [
    "#17.\n",
    "class Book:\n",
    "    def __init__(self, title, author, availability=True):\n",
    "        self.__title = title\n",
    "        self.__author = author\n",
    "        self.__availability = availability\n",
    "\n",
    "    def is_available(self):\n",
    "        return self.__availability\n"
   ]
  },
  {
   "cell_type": "raw",
   "id": "41667c2a-12dc-4f7a-91e1-8ee187fa9bc2",
   "metadata": {},
   "source": [
    "18.Enhancing Reusability and Modularity with Encapsulation:\n",
    "Encapsulation promotes reusability by encapsulating behavior within classes, making it easier to reuse code across different parts of the program. It also enhances modularity by isolating components, allowing for easier maintenance and updates."
   ]
  },
  {
   "cell_type": "raw",
   "id": "eb5735f5-0b6c-4b47-9767-3eee289ca675",
   "metadata": {},
   "source": [
    "19.Information Hiding in Encapsulation:\n",
    "Information hiding is the practice of hiding implementation details from external entities. It ensures that only relevant information is exposed, reducing complexity and improving security. Information hiding is essential in software development to protect sensitive data and maintain abstraction barriers."
   ]
  },
  {
   "cell_type": "code",
   "execution_count": 29,
   "id": "72c59b01-62a8-4be8-995a-db9be2720b17",
   "metadata": {},
   "outputs": [],
   "source": [
    "#20.\n",
    "class Customer:\n",
    "    def __init__(self, name, address, contact_info):\n",
    "        self.__name = name\n",
    "        self.__address = address\n",
    "        self.__contact_info = contact_info\n",
    "\n",
    "    def get_name(self):\n",
    "        return self.__name\n",
    "\n",
    "    def set_name(self, name):\n",
    "        self.__name = name\n",
    "\n",
    "    # Similarly define getter and setter methods for other attributes\n"
   ]
  },
  {
   "cell_type": "markdown",
   "id": "8b8e1b14-cfd2-420b-8420-b74546780148",
   "metadata": {},
   "source": [
    "Polymorphism:\n",
    "1. What is polymorphism in Python? Explain how it is related to object-oriented programming.\n",
    "2. Describe the difference between compile-time polymorphism and runtime polymorphism in Python.\n",
    "3. Create a Python class hierarchy for shapes (e.g., circle, square, triangle) and demonstrate polymorphism\n",
    "through a common method, such as `calculate_area()`.\n",
    "4. Explain the concept of method overriding in polymorphism. Provide an example.\n",
    "5. How is polymorphism different from method overloading in Python? Provide examples for both.\n",
    "6. Create a Python class called `Animal` with a method `speak()`. Then, create child classes like `Dog`, `Cat`, and `Bird`, each with their own `speak()` method. Demonstrate polymorphism by calling the `speak()` method\n",
    "on objects of different subclasses.\n",
    "7. Discuss the use of abstract methods and classes in achieving polymorphism in Python. Provide an example\n",
    "using the `abc` module.\n",
    "8. Create a Python class hierarchy for a vehicle system (e.g., car, bicycle, boat) and implement a polymorphic `start()` method that prints a message specific to each vehicle type.\n",
    "9. Explain the significance of the `isinstance()` and `issubclass()` functions in Python polymorphism.\n",
    "10. What is the role of the `@abstractmethod` decorator in achieving polymorphism in Python? Provide an\n",
    "example.\n",
    "11. Create a Python class called `Shape` with a polymorphic method `area()` that calculates the area of different shapes (e.g., circle, rectangle, triangle).\n",
    "12. Discuss the benefits of polymorphism in terms of code reusability and flexibility in Python programs.\n",
    "13. Explain the use of the `super()` function in Python polymorphism. How does it help call methods of parent\n",
    "classes?\n",
    "14. Create a Python class hierarchy for a banking system with various account types (e.g., savings, checking, credit card) and demonstrate polymorphism by implementing a common `withdraw()` method.\n",
    "15. Describe the concept of operator overloading in Python and how it relates to polymorphism. Provide\n",
    "examples using operators like `+` and `*`.\n",
    "16. What is dynamic polymorphism, and how is it achieved in Python?\n",
    "17. Create a Python class hierarchy for employees in a company (e.g., manager, developer, designer) and implement polymorphism through a common `calculate_salary()` method.\n",
    "18. Discuss the concept of function pointers and how they can be used to achieve polymorphism in Python.\n",
    "19. Explain the role of interfaces and abstract classes in polymorphism, drawing comparisons between them.\n",
    "20. Create a Python class for a zoo simulation, demonstrating polymorphism with different animal types (e.g., mammals, birds, reptiles) and their behavior (e.g., eating, sleeping, making sounds)."
   ]
  },
  {
   "cell_type": "code",
   "execution_count": null,
   "id": "51af0558-5868-42e0-b080-4cadd236beb2",
   "metadata": {},
   "outputs": [],
   "source": []
  }
 ],
 "metadata": {
  "kernelspec": {
   "display_name": "Python 3 (ipykernel)",
   "language": "python",
   "name": "python3"
  },
  "language_info": {
   "codemirror_mode": {
    "name": "ipython",
    "version": 3
   },
   "file_extension": ".py",
   "mimetype": "text/x-python",
   "name": "python",
   "nbconvert_exporter": "python",
   "pygments_lexer": "ipython3",
   "version": "3.10.8"
  }
 },
 "nbformat": 4,
 "nbformat_minor": 5
}
